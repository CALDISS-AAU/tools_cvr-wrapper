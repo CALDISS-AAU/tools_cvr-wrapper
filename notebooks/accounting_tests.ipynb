{
 "cells": [
  {
   "cell_type": "code",
   "execution_count": 1,
   "id": "0a1fb258-a23c-4dbd-a2f3-61240f6367d3",
   "metadata": {},
   "outputs": [],
   "source": [
    "import requests\n",
    "import pandas as pd\n",
    "import random\n",
    "import time\n",
    "\n",
    "CVR_VIRK_URL = 'http://distribution.virk.dk/cvr-permanent/virksomhed/_search'\n",
    "CVR_PROD_URL = 'http://distribution.virk.dk/cvr-permanent/produktionsenhed/_search'\n",
    "CVR_PROD_SCROLL = 'http://distribution.virk.dk/cvr-permanent/produktionsenhed/_search?scroll=1m'\n",
    "CVR_SCROLL = 'http://distribution.virk.dk/_search/scroll'"
   ]
  },
  {
   "cell_type": "code",
   "execution_count": 7,
   "id": "7b627b68-339d-43f8-b5bc-dd67f4c81087",
   "metadata": {},
   "outputs": [],
   "source": [
    "auth_bruger = ''\n",
    "auth_pass = ''\n",
    "auth = (auth_bruger, auth_pass)"
   ]
  },
  {
   "cell_type": "code",
   "execution_count": 8,
   "id": "4bf67939-5895-486b-8356-683b80fbde61",
   "metadata": {},
   "outputs": [],
   "source": [
    "HEADERS = {\n",
    "    'Content-Type': 'application/json',\n",
    "}\n",
    "\n",
    "FIELDS = [\"Vrvirksomhed.cvrNummer\",\n",
    "          \"Vrvirksomhed.deltagerRelation\"]"
   ]
  },
  {
   "cell_type": "code",
   "execution_count": 9,
   "id": "2cf28f40-85c6-43fa-8183-98f1e6a2f6be",
   "metadata": {},
   "outputs": [],
   "source": [
    "def get_orgs(cvr, auth, fields = FIELDS, api_endpoint = CVR_VIRK_URL, headers = HEADERS): # Function for getting company info\n",
    "    query_body = {\"_source\": fields,\n",
    "                  \"query\": {\n",
    "                      \"bool\": {\n",
    "                          \"must\": [\n",
    "                              {\"match\": {\"Vrvirksomhed.cvrNummer\": cvr}}\n",
    "                          ]\n",
    "                      }\n",
    "                  }\n",
    "                 }\n",
    "    \n",
    "    \n",
    "    query = str(query_body).replace('\\'', '\\\"')\n",
    "    \n",
    "    response = requests.post(api_endpoint, headers = headers, auth = auth, data = query)\n",
    "    \n",
    "    data_response = dict(response.json())\n",
    "\n",
    "    #data = pd.json_normalize(data_response['hits']['hits'])\n",
    "    \n",
    "    return(data_response)"
   ]
  },
  {
   "cell_type": "code",
   "execution_count": 10,
   "id": "6ff2d9ec-7158-497c-8bb3-986c7d5b03e0",
   "metadata": {},
   "outputs": [],
   "source": [
    "test_cvr = \"10010861\" # cvr for testing (has to be string because that makes total sense for a CVR-number)"
   ]
  },
  {
   "cell_type": "code",
   "execution_count": 11,
   "id": "e33b036c-9e62-41b2-bda4-55ee081ac3fa",
   "metadata": {},
   "outputs": [],
   "source": [
    "company = get_orgs(test_cvr, auth = auth) # getting company data"
   ]
  },
  {
   "cell_type": "code",
   "execution_count": 12,
   "id": "073c9f74-128e-4425-9097-9162871c1c2d",
   "metadata": {},
   "outputs": [],
   "source": [
    "orgs = company.get('hits').get('hits')[0].get('_source').get('Vrvirksomhed').get('deltagerRelation') # getting data from field \"deltagerRelation\" - data regarding associated companies"
   ]
  },
  {
   "cell_type": "code",
   "execution_count": 13,
   "id": "71399cc9-c512-417e-bfdc-3ff894c902fd",
   "metadata": {},
   "outputs": [],
   "source": [
    "revifirms = [] # Extracting accounting firms ('hovedtype': 'REVISION')\n",
    "\n",
    "for org in orgs:\n",
    "    if 'REVISION' in [orgnavn.get('hovedtype') for orgnavn in org.get('organisationer')]:\n",
    "        revifirms.append(org)"
   ]
  },
  {
   "cell_type": "code",
   "execution_count": 16,
   "id": "58ab8bbf-59e3-481c-b3db-84f9f31b1f95",
   "metadata": {},
   "outputs": [
    {
     "data": {
      "text/plain": [
       "10092159"
      ]
     },
     "execution_count": 16,
     "metadata": {},
     "output_type": "execute_result"
    }
   ],
   "source": [
    "revifirms[0].get('deltager').get('forretningsnoegle') # First entry seems to be current company (can be checked further with date info)"
   ]
  }
 ],
 "metadata": {
  "kernelspec": {
   "display_name": "Python 3 (ipykernel)",
   "language": "python",
   "name": "python3"
  },
  "language_info": {
   "codemirror_mode": {
    "name": "ipython",
    "version": 3
   },
   "file_extension": ".py",
   "mimetype": "text/x-python",
   "name": "python",
   "nbconvert_exporter": "python",
   "pygments_lexer": "ipython3",
   "version": "3.7.9"
  }
 },
 "nbformat": 4,
 "nbformat_minor": 5
}
